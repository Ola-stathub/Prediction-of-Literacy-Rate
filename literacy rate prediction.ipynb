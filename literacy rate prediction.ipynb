{
 "cells": [
  {
   "cell_type": "markdown",
   "id": "28f8dcd0",
   "metadata": {},
   "source": [
    "# Importing Modules"
   ]
  },
  {
   "cell_type": "code",
   "execution_count": 1,
   "id": "2654cabf-dee3-44f4-87ed-36a3a5df11ee",
   "metadata": {},
   "outputs": [],
   "source": [
    "import pandas as pd\n",
    "import numpy as np\n",
    "\n",
    "from sklearn.model_selection import train_test_split\n",
    "from sklearn.linear_model import LinearRegression\n",
    "from sklearn.ensemble import RandomForestRegressor\n",
    "from sklearn.tree import DecisionTreeRegressor\n",
    "from sklearn.svm import SVR\n",
    "from sklearn.metrics import mean_squared_error, r2_score\n",
    "from math import sqrt\n",
    "\n",
    "import matplotlib.pyplot as plt"
   ]
  },
  {
   "cell_type": "markdown",
   "id": "4c32d0eb",
   "metadata": {},
   "source": [
    "# Importing Dataset"
   ]
  },
  {
   "cell_type": "code",
   "execution_count": 2,
   "id": "e7d15210-32ad-4166-8eeb-f42bf071bdf9",
   "metadata": {},
   "outputs": [
    {
     "data": {
      "text/html": [
       "<div>\n",
       "<style scoped>\n",
       "    .dataframe tbody tr th:only-of-type {\n",
       "        vertical-align: middle;\n",
       "    }\n",
       "\n",
       "    .dataframe tbody tr th {\n",
       "        vertical-align: top;\n",
       "    }\n",
       "\n",
       "    .dataframe thead th {\n",
       "        text-align: right;\n",
       "    }\n",
       "</style>\n",
       "<table border=\"1\" class=\"dataframe\">\n",
       "  <thead>\n",
       "    <tr style=\"text-align: right;\">\n",
       "      <th></th>\n",
       "      <th>Year</th>\n",
       "      <th>Expenditure on tertiary education (% of government expenditure on education)</th>\n",
       "      <th>School enrollment, tertiary (% gross)</th>\n",
       "      <th>Literacy rate, adult total (% of people ages 15 and above)</th>\n",
       "      <th>Tertiary education, academic staff (% female)</th>\n",
       "    </tr>\n",
       "  </thead>\n",
       "  <tbody>\n",
       "    <tr>\n",
       "      <th>0</th>\n",
       "      <td>1985</td>\n",
       "      <td>14.08417</td>\n",
       "      <td>29.591089</td>\n",
       "      <td>54.810108</td>\n",
       "      <td>30.278391</td>\n",
       "    </tr>\n",
       "    <tr>\n",
       "      <th>1</th>\n",
       "      <td>1986</td>\n",
       "      <td>15.09756</td>\n",
       "      <td>29.247841</td>\n",
       "      <td>55.440521</td>\n",
       "      <td>29.954220</td>\n",
       "    </tr>\n",
       "    <tr>\n",
       "      <th>2</th>\n",
       "      <td>1987</td>\n",
       "      <td>14.99714</td>\n",
       "      <td>31.644550</td>\n",
       "      <td>56.325809</td>\n",
       "      <td>30.168850</td>\n",
       "    </tr>\n",
       "    <tr>\n",
       "      <th>3</th>\n",
       "      <td>1988</td>\n",
       "      <td>15.85419</td>\n",
       "      <td>31.783649</td>\n",
       "      <td>57.064659</td>\n",
       "      <td>29.591810</td>\n",
       "    </tr>\n",
       "    <tr>\n",
       "      <th>4</th>\n",
       "      <td>1989</td>\n",
       "      <td>15.80763</td>\n",
       "      <td>33.770649</td>\n",
       "      <td>57.749352</td>\n",
       "      <td>30.018721</td>\n",
       "    </tr>\n",
       "  </tbody>\n",
       "</table>\n",
       "</div>"
      ],
      "text/plain": [
       "   Year  \\\n",
       "0  1985   \n",
       "1  1986   \n",
       "2  1987   \n",
       "3  1988   \n",
       "4  1989   \n",
       "\n",
       "   Expenditure on tertiary education (% of government expenditure on education)  \\\n",
       "0                                           14.08417                              \n",
       "1                                           15.09756                              \n",
       "2                                           14.99714                              \n",
       "3                                           15.85419                              \n",
       "4                                           15.80763                              \n",
       "\n",
       "   School enrollment, tertiary (% gross)  \\\n",
       "0                              29.591089   \n",
       "1                              29.247841   \n",
       "2                              31.644550   \n",
       "3                              31.783649   \n",
       "4                              33.770649   \n",
       "\n",
       "   Literacy rate, adult total (% of people ages 15 and above)  \\\n",
       "0                                          54.810108            \n",
       "1                                          55.440521            \n",
       "2                                          56.325809            \n",
       "3                                          57.064659            \n",
       "4                                          57.749352            \n",
       "\n",
       "   Tertiary education, academic staff (% female)  \n",
       "0                                      30.278391  \n",
       "1                                      29.954220  \n",
       "2                                      30.168850  \n",
       "3                                      29.591810  \n",
       "4                                      30.018721  "
      ]
     },
     "execution_count": 2,
     "metadata": {},
     "output_type": "execute_result"
    }
   ],
   "source": [
    "df = pd.read_excel(r'/Users/mac/Downloads/Education.xlsx')\n",
    "df.head()\n",
    "                "
   ]
  },
  {
   "cell_type": "code",
   "execution_count": 3,
   "id": "fb192b98-f75a-4dfb-a5c4-1e57986a0ddc",
   "metadata": {},
   "outputs": [
    {
     "data": {
      "text/html": [
       "<div>\n",
       "<style scoped>\n",
       "    .dataframe tbody tr th:only-of-type {\n",
       "        vertical-align: middle;\n",
       "    }\n",
       "\n",
       "    .dataframe tbody tr th {\n",
       "        vertical-align: top;\n",
       "    }\n",
       "\n",
       "    .dataframe thead th {\n",
       "        text-align: right;\n",
       "    }\n",
       "</style>\n",
       "<table border=\"1\" class=\"dataframe\">\n",
       "  <thead>\n",
       "    <tr style=\"text-align: right;\">\n",
       "      <th></th>\n",
       "      <th>Year</th>\n",
       "      <th>Expenditure on tertiary education (% of government expenditure on education)</th>\n",
       "      <th>School enrollment, tertiary (% gross)</th>\n",
       "      <th>Literacy rate, adult total (% of people ages 15 and above)</th>\n",
       "      <th>Tertiary education, academic staff (% female)</th>\n",
       "    </tr>\n",
       "  </thead>\n",
       "  <tbody>\n",
       "    <tr>\n",
       "      <th>35</th>\n",
       "      <td>2020</td>\n",
       "      <td>25.66675</td>\n",
       "      <td>87.168533</td>\n",
       "      <td>79.961388</td>\n",
       "      <td>39.95805</td>\n",
       "    </tr>\n",
       "    <tr>\n",
       "      <th>36</th>\n",
       "      <td>2021</td>\n",
       "      <td>25.43258</td>\n",
       "      <td>93.924301</td>\n",
       "      <td>80.358002</td>\n",
       "      <td>40.71479</td>\n",
       "    </tr>\n",
       "  </tbody>\n",
       "</table>\n",
       "</div>"
      ],
      "text/plain": [
       "    Year  \\\n",
       "35  2020   \n",
       "36  2021   \n",
       "\n",
       "    Expenditure on tertiary education (% of government expenditure on education)  \\\n",
       "35                                           25.66675                              \n",
       "36                                           25.43258                              \n",
       "\n",
       "    School enrollment, tertiary (% gross)  \\\n",
       "35                              87.168533   \n",
       "36                              93.924301   \n",
       "\n",
       "    Literacy rate, adult total (% of people ages 15 and above)  \\\n",
       "35                                          79.961388            \n",
       "36                                          80.358002            \n",
       "\n",
       "    Tertiary education, academic staff (% female)  \n",
       "35                                       39.95805  \n",
       "36                                       40.71479  "
      ]
     },
     "execution_count": 3,
     "metadata": {},
     "output_type": "execute_result"
    }
   ],
   "source": [
    "df.tail(2)"
   ]
  },
  {
   "cell_type": "markdown",
   "id": "8d6e26fa",
   "metadata": {},
   "source": [
    "# Data preparation"
   ]
  },
  {
   "cell_type": "code",
   "execution_count": 19,
   "id": "192fdaea",
   "metadata": {
    "scrolled": true
   },
   "outputs": [
    {
     "name": "stdout",
     "output_type": "stream",
     "text": [
      "<class 'pandas.core.frame.DataFrame'>\n",
      "RangeIndex: 37 entries, 0 to 36\n",
      "Data columns (total 5 columns):\n",
      " #   Column                                                                        Non-Null Count  Dtype  \n",
      "---  ------                                                                        --------------  -----  \n",
      " 0   Year                                                                          37 non-null     int64  \n",
      " 1   Expenditure on tertiary education (% of government expenditure on education)  37 non-null     float64\n",
      " 2   School enrollment, tertiary (% gross)                                         37 non-null     float64\n",
      " 3   Literacy rate, adult total (% of people ages 15 and above)                    37 non-null     float64\n",
      " 4   Tertiary education, academic staff (% female)                                 37 non-null     float64\n",
      "dtypes: float64(4), int64(1)\n",
      "memory usage: 1.6 KB\n"
     ]
    }
   ],
   "source": [
    "df.info()"
   ]
  },
  {
   "cell_type": "code",
   "execution_count": 16,
   "id": "86f98002-cfa5-4058-b812-6090671b2c6c",
   "metadata": {},
   "outputs": [
    {
     "data": {
      "text/plain": [
       "Year                                                                            0\n",
       "Expenditure on tertiary education (% of government expenditure on education)    0\n",
       "School enrollment, tertiary (% gross)                                           0\n",
       "Literacy rate, adult total (% of people ages 15 and above)                      0\n",
       "Tertiary education, academic staff (% female)                                   0\n",
       "dtype: int64"
      ]
     },
     "execution_count": 16,
     "metadata": {},
     "output_type": "execute_result"
    }
   ],
   "source": [
    "df.isnull().sum()"
   ]
  },
  {
   "cell_type": "code",
   "execution_count": 4,
   "id": "7c90b28b",
   "metadata": {},
   "outputs": [
    {
     "data": {
      "text/html": [
       "<div>\n",
       "<style scoped>\n",
       "    .dataframe tbody tr th:only-of-type {\n",
       "        vertical-align: middle;\n",
       "    }\n",
       "\n",
       "    .dataframe tbody tr th {\n",
       "        vertical-align: top;\n",
       "    }\n",
       "\n",
       "    .dataframe thead th {\n",
       "        text-align: right;\n",
       "    }\n",
       "</style>\n",
       "<table border=\"1\" class=\"dataframe\">\n",
       "  <thead>\n",
       "    <tr style=\"text-align: right;\">\n",
       "      <th></th>\n",
       "      <th>count</th>\n",
       "      <th>mean</th>\n",
       "      <th>std</th>\n",
       "      <th>min</th>\n",
       "      <th>25%</th>\n",
       "      <th>50%</th>\n",
       "      <th>75%</th>\n",
       "      <th>max</th>\n",
       "    </tr>\n",
       "  </thead>\n",
       "  <tbody>\n",
       "    <tr>\n",
       "      <th>Year</th>\n",
       "      <td>37.0</td>\n",
       "      <td>2003.000000</td>\n",
       "      <td>10.824355</td>\n",
       "      <td>1985.000000</td>\n",
       "      <td>1994.000000</td>\n",
       "      <td>2003.000000</td>\n",
       "      <td>2012.000000</td>\n",
       "      <td>2021.000000</td>\n",
       "    </tr>\n",
       "    <tr>\n",
       "      <th>Expenditure on tertiary education (% of government expenditure on education)</th>\n",
       "      <td>37.0</td>\n",
       "      <td>25.847804</td>\n",
       "      <td>5.134470</td>\n",
       "      <td>14.084170</td>\n",
       "      <td>25.666750</td>\n",
       "      <td>26.429080</td>\n",
       "      <td>29.443033</td>\n",
       "      <td>32.362720</td>\n",
       "    </tr>\n",
       "    <tr>\n",
       "      <th>School enrollment, tertiary (% gross)</th>\n",
       "      <td>37.0</td>\n",
       "      <td>65.229347</td>\n",
       "      <td>18.473569</td>\n",
       "      <td>29.247841</td>\n",
       "      <td>54.690849</td>\n",
       "      <td>71.704758</td>\n",
       "      <td>78.239738</td>\n",
       "      <td>93.924301</td>\n",
       "    </tr>\n",
       "    <tr>\n",
       "      <th>Literacy rate, adult total (% of people ages 15 and above)</th>\n",
       "      <td>37.0</td>\n",
       "      <td>68.887666</td>\n",
       "      <td>8.111143</td>\n",
       "      <td>54.810108</td>\n",
       "      <td>61.707691</td>\n",
       "      <td>70.409912</td>\n",
       "      <td>75.882919</td>\n",
       "      <td>80.358002</td>\n",
       "    </tr>\n",
       "    <tr>\n",
       "      <th>Tertiary education, academic staff (% female)</th>\n",
       "      <td>37.0</td>\n",
       "      <td>33.180541</td>\n",
       "      <td>3.570889</td>\n",
       "      <td>28.255270</td>\n",
       "      <td>30.162519</td>\n",
       "      <td>32.224590</td>\n",
       "      <td>35.542068</td>\n",
       "      <td>40.714790</td>\n",
       "    </tr>\n",
       "  </tbody>\n",
       "</table>\n",
       "</div>"
      ],
      "text/plain": [
       "                                                    count         mean  \\\n",
       "Year                                                 37.0  2003.000000   \n",
       "Expenditure on tertiary education (% of governm...   37.0    25.847804   \n",
       "School enrollment, tertiary (% gross)                37.0    65.229347   \n",
       "Literacy rate, adult total (% of people ages 15...   37.0    68.887666   \n",
       "Tertiary education, academic staff (% female)        37.0    33.180541   \n",
       "\n",
       "                                                          std          min  \\\n",
       "Year                                                10.824355  1985.000000   \n",
       "Expenditure on tertiary education (% of governm...   5.134470    14.084170   \n",
       "School enrollment, tertiary (% gross)               18.473569    29.247841   \n",
       "Literacy rate, adult total (% of people ages 15...   8.111143    54.810108   \n",
       "Tertiary education, academic staff (% female)        3.570889    28.255270   \n",
       "\n",
       "                                                            25%          50%  \\\n",
       "Year                                                1994.000000  2003.000000   \n",
       "Expenditure on tertiary education (% of governm...    25.666750    26.429080   \n",
       "School enrollment, tertiary (% gross)                 54.690849    71.704758   \n",
       "Literacy rate, adult total (% of people ages 15...    61.707691    70.409912   \n",
       "Tertiary education, academic staff (% female)         30.162519    32.224590   \n",
       "\n",
       "                                                            75%          max  \n",
       "Year                                                2012.000000  2021.000000  \n",
       "Expenditure on tertiary education (% of governm...    29.443033    32.362720  \n",
       "School enrollment, tertiary (% gross)                 78.239738    93.924301  \n",
       "Literacy rate, adult total (% of people ages 15...    75.882919    80.358002  \n",
       "Tertiary education, academic staff (% female)         35.542068    40.714790  "
      ]
     },
     "execution_count": 4,
     "metadata": {},
     "output_type": "execute_result"
    }
   ],
   "source": [
    "df.describe().T"
   ]
  },
  {
   "cell_type": "code",
   "execution_count": 4,
   "id": "0b728cbd",
   "metadata": {},
   "outputs": [],
   "source": [
    "X = df.drop(columns=['Literacy rate, adult total (% of people ages 15 and above)'])\n",
    "y = df['Literacy rate, adult total (% of people ages 15 and above)']\n",
    "X_train, X_test, y_train, y_test = train_test_split(X, y, test_size=0.2, random_state=0)"
   ]
  },
  {
   "cell_type": "markdown",
   "id": "26f9c68c",
   "metadata": {},
   "source": [
    "# Fitting Random Forest Model at different parameter settings"
   ]
  },
  {
   "cell_type": "code",
   "execution_count": 5,
   "id": "03155556",
   "metadata": {},
   "outputs": [
    {
     "name": "stdout",
     "output_type": "stream",
     "text": [
      "Evaluation Metrics (R-Squared) for each model:\n",
      "                                 Model  R-Squared\n",
      "0                   Initial Parameters   0.989136\n",
      "1                       150 Estimators   0.985544\n",
      "2                         Max Depth 10   0.989136\n",
      "3  200 Estimators, Min Samples Split 5   0.968317\n",
      "\n",
      "Results for Initial Parameters:\n",
      "       Actual  Predicted\n",
      "22  72.045631  72.008073\n",
      "20  70.927567  71.246886\n",
      "16  68.670097  69.375714\n",
      "10  62.518120  61.291011\n",
      "31  78.606552  78.729469\n",
      "\n",
      "Results for 150 Estimators:\n",
      "       Actual  Predicted\n",
      "22  72.045631  71.936082\n",
      "20  70.927567  71.260226\n",
      "16  68.670097  69.710327\n",
      "10  62.518120  61.315776\n",
      "31  78.606552  78.707593\n",
      "\n",
      "Results for Max Depth 10:\n",
      "       Actual  Predicted\n",
      "22  72.045631  72.008073\n",
      "20  70.927567  71.246886\n",
      "16  68.670097  69.375714\n",
      "10  62.518120  61.291011\n",
      "31  78.606552  78.729469\n",
      "\n",
      "Results for 200 Estimators, Min Samples Split 5:\n",
      "       Actual  Predicted\n",
      "22  72.045631  71.883945\n",
      "20  70.927567  71.185421\n",
      "16  68.670097  70.497423\n",
      "10  62.518120  61.227038\n",
      "31  78.606552  78.778959\n"
     ]
    }
   ],
   "source": [
    "# Define a function to fit the model and get results\n",
    "def fit_and_evaluate_model(params, X_train, X_test, y_train, y_test):\n",
    "    model = RandomForestRegressor(**params)\n",
    "    model.fit(X_train, y_train)\n",
    "    y_pred = model.predict(X_test)\n",
    "    r2 = r2_score(y_test, y_pred)\n",
    "    results = pd.DataFrame({\n",
    "        'Actual': y_test,\n",
    "        'Predicted': y_pred\n",
    "    })\n",
    "    return model, results, r2\n",
    "\n",
    "# Initial parameters\n",
    "initial_params = {\n",
    "    'n_estimators': 100,\n",
    "    'random_state': 0\n",
    "}\n",
    "\n",
    "# Fit the initial model\n",
    "initial_model, initial_results, initial_r2 = fit_and_evaluate_model(initial_params, X_train, X_test, y_train, y_test)\n",
    "\n",
    "# Define different sets of parameters\n",
    "params_list = [\n",
    "    {'n_estimators': 150, 'random_state': 0},\n",
    "    {'n_estimators': 100, 'max_depth': 10, 'random_state': 0},\n",
    "    {'n_estimators': 200, 'min_samples_split': 5, 'random_state': 0}\n",
    "]\n",
    "\n",
    "models = [initial_model]\n",
    "results = [initial_results]\n",
    "r2_scores = [initial_r2]\n",
    "param_names = [\"Initial Parameters\", \"150 Estimators\", \"Max Depth 10\", \"200 Estimators, Min Samples Split 5\"]\n",
    "\n",
    "for params in params_list:\n",
    "    model, result, r2 = fit_and_evaluate_model(params, X_train, X_test, y_train, y_test)\n",
    "    models.append(model)\n",
    "    results.append(result)\n",
    "    r2_scores.append(r2)\n",
    "    \n",
    "results_table = pd.DataFrame({\n",
    "    'Model': param_names,\n",
    "    'R-Squared': r2_scores\n",
    "})\n",
    "\n",
    "print(\"Evaluation Metrics (R-Squared) for each model:\")\n",
    "print(results_table)\n",
    "\n",
    "for name, result in zip(param_names, results):\n",
    "    print(f\"\\nResults for {name}:\")\n",
    "    print(result.head())"
   ]
  },
  {
   "cell_type": "markdown",
   "id": "afbf4462",
   "metadata": {},
   "source": [
    "# Fitting other models to compare with random forest"
   ]
  },
  {
   "cell_type": "code",
   "execution_count": 16,
   "id": "bf9de673",
   "metadata": {},
   "outputs": [],
   "source": [
    "models = {\n",
    "    'Linear Regression': LinearRegression(),\n",
    "\n",
    "    'Decision Tree': DecisionTreeRegressor(),\n",
    "    \n",
    "}\n",
    "\n",
    "mse_results = {}\n",
    "rmse_results = {}\n",
    "\n",
    "for model_name, model in models.items():\n",
    "    model.fit(X_train, y_train)\n",
    "    y_pred = model.predict(X_test)"
   ]
  },
  {
   "cell_type": "code",
   "execution_count": 18,
   "id": "e1affef3-969b-438b-92f6-f77cffe8b3b9",
   "metadata": {},
   "outputs": [
    {
     "name": "stdout",
     "output_type": "stream",
     "text": [
      "R-squared for each model:\n",
      "Linear Regression: 0.9808966985807995\n",
      "Decision Tree: 0.976521383788051\n"
     ]
    }
   ],
   "source": [
    "r_squared_results = {}\n",
    "\n",
    "for model_name, model in models.items():\n",
    "    y_pred = model.predict(X_test)\n",
    "    r_squared = r2_score(y_test, y_pred)\n",
    "    r_squared_results[model_name] = r_squared\n",
    "\n",
    "print(\"R-squared for each model:\")\n",
    "for model, r_squared in r_squared_results.items():\n",
    "    print(f\"{model}: {r_squared}\")"
   ]
  },
  {
   "cell_type": "markdown",
   "id": "536e7266",
   "metadata": {},
   "source": [
    "# Fitting the default model again and Saving it"
   ]
  },
  {
   "cell_type": "code",
   "execution_count": 20,
   "id": "f10230e8",
   "metadata": {},
   "outputs": [
    {
     "data": {
      "text/html": [
       "<style>#sk-container-id-1 {color: black;background-color: white;}#sk-container-id-1 pre{padding: 0;}#sk-container-id-1 div.sk-toggleable {background-color: white;}#sk-container-id-1 label.sk-toggleable__label {cursor: pointer;display: block;width: 100%;margin-bottom: 0;padding: 0.3em;box-sizing: border-box;text-align: center;}#sk-container-id-1 label.sk-toggleable__label-arrow:before {content: \"▸\";float: left;margin-right: 0.25em;color: #696969;}#sk-container-id-1 label.sk-toggleable__label-arrow:hover:before {color: black;}#sk-container-id-1 div.sk-estimator:hover label.sk-toggleable__label-arrow:before {color: black;}#sk-container-id-1 div.sk-toggleable__content {max-height: 0;max-width: 0;overflow: hidden;text-align: left;background-color: #f0f8ff;}#sk-container-id-1 div.sk-toggleable__content pre {margin: 0.2em;color: black;border-radius: 0.25em;background-color: #f0f8ff;}#sk-container-id-1 input.sk-toggleable__control:checked~div.sk-toggleable__content {max-height: 200px;max-width: 100%;overflow: auto;}#sk-container-id-1 input.sk-toggleable__control:checked~label.sk-toggleable__label-arrow:before {content: \"▾\";}#sk-container-id-1 div.sk-estimator input.sk-toggleable__control:checked~label.sk-toggleable__label {background-color: #d4ebff;}#sk-container-id-1 div.sk-label input.sk-toggleable__control:checked~label.sk-toggleable__label {background-color: #d4ebff;}#sk-container-id-1 input.sk-hidden--visually {border: 0;clip: rect(1px 1px 1px 1px);clip: rect(1px, 1px, 1px, 1px);height: 1px;margin: -1px;overflow: hidden;padding: 0;position: absolute;width: 1px;}#sk-container-id-1 div.sk-estimator {font-family: monospace;background-color: #f0f8ff;border: 1px dotted black;border-radius: 0.25em;box-sizing: border-box;margin-bottom: 0.5em;}#sk-container-id-1 div.sk-estimator:hover {background-color: #d4ebff;}#sk-container-id-1 div.sk-parallel-item::after {content: \"\";width: 100%;border-bottom: 1px solid gray;flex-grow: 1;}#sk-container-id-1 div.sk-label:hover label.sk-toggleable__label {background-color: #d4ebff;}#sk-container-id-1 div.sk-serial::before {content: \"\";position: absolute;border-left: 1px solid gray;box-sizing: border-box;top: 0;bottom: 0;left: 50%;z-index: 0;}#sk-container-id-1 div.sk-serial {display: flex;flex-direction: column;align-items: center;background-color: white;padding-right: 0.2em;padding-left: 0.2em;position: relative;}#sk-container-id-1 div.sk-item {position: relative;z-index: 1;}#sk-container-id-1 div.sk-parallel {display: flex;align-items: stretch;justify-content: center;background-color: white;position: relative;}#sk-container-id-1 div.sk-item::before, #sk-container-id-1 div.sk-parallel-item::before {content: \"\";position: absolute;border-left: 1px solid gray;box-sizing: border-box;top: 0;bottom: 0;left: 50%;z-index: -1;}#sk-container-id-1 div.sk-parallel-item {display: flex;flex-direction: column;z-index: 1;position: relative;background-color: white;}#sk-container-id-1 div.sk-parallel-item:first-child::after {align-self: flex-end;width: 50%;}#sk-container-id-1 div.sk-parallel-item:last-child::after {align-self: flex-start;width: 50%;}#sk-container-id-1 div.sk-parallel-item:only-child::after {width: 0;}#sk-container-id-1 div.sk-dashed-wrapped {border: 1px dashed gray;margin: 0 0.4em 0.5em 0.4em;box-sizing: border-box;padding-bottom: 0.4em;background-color: white;}#sk-container-id-1 div.sk-label label {font-family: monospace;font-weight: bold;display: inline-block;line-height: 1.2em;}#sk-container-id-1 div.sk-label-container {text-align: center;}#sk-container-id-1 div.sk-container {/* jupyter's `normalize.less` sets `[hidden] { display: none; }` but bootstrap.min.css set `[hidden] { display: none !important; }` so we also need the `!important` here to be able to override the default hidden behavior on the sphinx rendered scikit-learn.org. See: https://github.com/scikit-learn/scikit-learn/issues/21755 */display: inline-block !important;position: relative;}#sk-container-id-1 div.sk-text-repr-fallback {display: none;}</style><div id=\"sk-container-id-1\" class=\"sk-top-container\"><div class=\"sk-text-repr-fallback\"><pre>RandomForestRegressor()</pre><b>In a Jupyter environment, please rerun this cell to show the HTML representation or trust the notebook. <br />On GitHub, the HTML representation is unable to render, please try loading this page with nbviewer.org.</b></div><div class=\"sk-container\" hidden><div class=\"sk-item\"><div class=\"sk-estimator sk-toggleable\"><input class=\"sk-toggleable__control sk-hidden--visually\" id=\"sk-estimator-id-1\" type=\"checkbox\" checked><label for=\"sk-estimator-id-1\" class=\"sk-toggleable__label sk-toggleable__label-arrow\">RandomForestRegressor</label><div class=\"sk-toggleable__content\"><pre>RandomForestRegressor()</pre></div></div></div></div></div>"
      ],
      "text/plain": [
       "RandomForestRegressor()"
      ]
     },
     "execution_count": 20,
     "metadata": {},
     "output_type": "execute_result"
    }
   ],
   "source": [
    "random_forest_model = RandomForestRegressor()\n",
    "random_forest_model.fit(X_train, y_train)"
   ]
  },
  {
   "cell_type": "code",
   "execution_count": 21,
   "id": "7f1b06a8-daa0-4689-a86e-81424ffbe295",
   "metadata": {},
   "outputs": [
    {
     "data": {
      "text/plain": [
       "['random_forest_model.joblib']"
      ]
     },
     "execution_count": 21,
     "metadata": {},
     "output_type": "execute_result"
    }
   ],
   "source": [
    "from joblib import dump\n",
    "dump(random_forest_model, 'random_forest_model.joblib')"
   ]
  },
  {
   "cell_type": "markdown",
   "id": "2f3ae645",
   "metadata": {},
   "source": [
    "# Deploying the model through streamlit"
   ]
  },
  {
   "cell_type": "code",
   "execution_count": 56,
   "id": "6f6ac378-0e10-44c5-8a8f-2bf2e0153e5b",
   "metadata": {},
   "outputs": [
    {
     "name": "stderr",
     "output_type": "stream",
     "text": [
      "2024-06-12 21:57:24.547 \n",
      "  \u001b[33m\u001b[1mWarning:\u001b[0m to view this Streamlit app on a browser, run it with the following\n",
      "  command:\n",
      "\n",
      "    streamlit run /opt/anaconda3/lib/python3.11/site-packages/ipykernel_launcher.py [ARGUMENTS]\n"
     ]
    }
   ],
   "source": [
    "import streamlit as st\n",
    "import joblib\n",
    "import numpy as np\n",
    "\n",
    "model = joblib.load(r\"/Users/mac/Desktop/ipynb files/random_forest_model.joblib\")\n",
    "st.title(\"Literacy Rate Prediction\")\n",
    "year = st.number_input(\"Year\", min_value=1900, max_value=2100, value=2020)\n",
    "expenditure_on_tertiary_education = st.number_input(\"Expenditure on Tertiary Education (% of government expenditure on education)\", min_value=0.0, max_value=100.0, value=10.0)\n",
    "school_enrollment_tertiary = st.number_input(\"School Enrollment, Tertiary (% gross)\", min_value=0.0, max_value=100.0, value=50.0)\n",
    "academic_staff_female = st.number_input(\"Tertiary Education, Academic Staff (% female)\", min_value=0.0, max_value=100.0, value=50.0)\n",
    "\n",
    "\n",
    "if st.button(\"Predict Literacy Rate\"):\n",
    "  \n",
    "    input_data = np.array([[year, expenditure_on_tertiary_education, school_enrollment_tertiary, academic_staff_female]])\n",
    "\n",
    "   \n",
    "    literacy_rate_prediction = model.predict(input_data)\n",
    "\n",
    "   \n",
    "    st.write(f\"Predicted Literacy Rate (adult total % of people ages 15 and above): {literacy_rate_prediction[0]:.2f}%\")\n"
   ]
  }
 ],
 "metadata": {
  "kernelspec": {
   "display_name": "Python 3 (ipykernel)",
   "language": "python",
   "name": "python3"
  },
  "language_info": {
   "codemirror_mode": {
    "name": "ipython",
    "version": 3
   },
   "file_extension": ".py",
   "mimetype": "text/x-python",
   "name": "python",
   "nbconvert_exporter": "python",
   "pygments_lexer": "ipython3",
   "version": "3.11.7"
  }
 },
 "nbformat": 4,
 "nbformat_minor": 5
}
